{
 "cells": [
  {
   "cell_type": "code",
   "execution_count": 1,
   "id": "e03a3fff-e6f5-4381-b730-3bb13d210a14",
   "metadata": {},
   "outputs": [
    {
     "name": "stderr",
     "output_type": "stream",
     "text": [
      "<>:9: SyntaxWarning: invalid escape sequence '\\E'\n",
      "<>:9: SyntaxWarning: invalid escape sequence '\\E'\n",
      "C:\\Users\\Riyanshika\\AppData\\Local\\Temp\\ipykernel_3764\\4013840919.py:9: SyntaxWarning: invalid escape sequence '\\E'\n",
      "  df = pd.read_csv(\"G:\\ExcelR\\Assignments\\downloaded files\\EDA2\\EDA2\\\\adult_with_headers.csv\")\n"
     ]
    },
    {
     "name": "stdout",
     "output_type": "stream",
     "text": [
      "Summary Statistics:\n",
      "                age        fnlwgt  education_num  capital_gain  capital_loss  \\\n",
      "count  32561.000000  3.256100e+04   32561.000000  32561.000000  32561.000000   \n",
      "mean      38.581647  1.897784e+05      10.080679   1077.648844     87.303830   \n",
      "std       13.640433  1.055500e+05       2.572720   7385.292085    402.960219   \n",
      "min       17.000000  1.228500e+04       1.000000      0.000000      0.000000   \n",
      "25%       28.000000  1.178270e+05       9.000000      0.000000      0.000000   \n",
      "50%       37.000000  1.783560e+05      10.000000      0.000000      0.000000   \n",
      "75%       48.000000  2.370510e+05      12.000000      0.000000      0.000000   \n",
      "max       90.000000  1.484705e+06      16.000000  99999.000000   4356.000000   \n",
      "\n",
      "       hours_per_week  \n",
      "count    32561.000000  \n",
      "mean        40.437456  \n",
      "std         12.347429  \n",
      "min          1.000000  \n",
      "25%         40.000000  \n",
      "50%         40.000000  \n",
      "75%         45.000000  \n",
      "max         99.000000  \n",
      "\n",
      "Missing Values:\n",
      "age               0\n",
      "workclass         0\n",
      "fnlwgt            0\n",
      "education         0\n",
      "education_num     0\n",
      "marital_status    0\n",
      "occupation        0\n",
      "relationship      0\n",
      "race              0\n",
      "sex               0\n",
      "capital_gain      0\n",
      "capital_loss      0\n",
      "hours_per_week    0\n",
      "native_country    0\n",
      "income            0\n",
      "dtype: int64\n"
     ]
    }
   ],
   "source": [
    "# Importing necessary libraries\n",
    "import pandas as pd\n",
    "import numpy as np\n",
    "from sklearn.preprocessing import StandardScaler, MinMaxScaler, OneHotEncoder, LabelEncoder\n",
    "from sklearn.ensemble import IsolationForest\n",
    "#import ppscore as pps\n",
    "\n",
    "# Loading the dataset\n",
    "df = pd.read_csv(\"G:\\ExcelR\\Assignments\\downloaded files\\EDA2\\EDA2\\\\adult_with_headers.csv\")\n",
    "\n",
    "# Data Exploration and Preprocessing\n",
    "# Summary statistics\n",
    "print(\"Summary Statistics:\")\n",
    "print(df.describe())\n",
    "\n",
    "# Missing values\n",
    "print(\"\\nMissing Values:\")\n",
    "print(df.isnull().sum())\n",
    "\n",
    "# Handling missing values\n",
    "df.dropna(inplace=True)"
   ]
  },
  {
   "cell_type": "code",
   "execution_count": 5,
   "id": "7ee645f3-e833-432a-95ab-6a958536a37f",
   "metadata": {},
   "outputs": [],
   "source": [
    "# Scaling techniques\n",
    "scaler_standard = StandardScaler()\n",
    "scaler_minmax = MinMaxScaler()\n",
    "\n",
    "# Standarding Scaling\n",
    "df_scaled_standard = pd.DataFrame(scaler_standard.fit_transform(df.select_dtypes(include=[np.number])),\n",
    "                                   columns=df.select_dtypes(include=[np.number]).columns)\n",
    "# Min-Max Scaling\n",
    "df_scaled_minmax = pd.DataFrame(scaler_minmax.fit_transform(df.select_dtypes(include=[np.number])),\n",
    "                                 columns=df.select_dtypes(include=[np.number]).columns)"
   ]
  },
  {
   "cell_type": "code",
   "execution_count": 7,
   "id": "04cf38e4-9c46-4ee5-ba91-23cea0b55c9c",
   "metadata": {},
   "outputs": [
    {
     "name": "stdout",
     "output_type": "stream",
     "text": [
      "Encoded DataFrame:\n",
      "   category1_A  category1_B  category1_C  category2_X  category2_Y  \\\n",
      "0         True        False        False         True        False   \n",
      "1        False         True        False        False         True   \n",
      "2         True        False        False        False        False   \n",
      "3        False        False         True         True        False   \n",
      "4        False         True        False        False        False   \n",
      "\n",
      "   category2_Z  category3_M  category3_N  \n",
      "0        False         True        False  \n",
      "1        False        False         True  \n",
      "2         True         True        False  \n",
      "3        False        False         True  \n",
      "4         True         True        False  \n"
     ]
    }
   ],
   "source": [
    "import pandas as pd\n",
    "\n",
    "# Example DataFrame with categorical variables\n",
    "data = {'category1': ['A', 'B', 'A', 'C', 'B'],\n",
    "        'category2': ['X', 'Y', 'Z', 'X', 'Z'],\n",
    "        'category3': ['M', 'N', 'M', 'N', 'M']}\n",
    "df = pd.DataFrame(data)\n",
    "\n",
    "# Identifing categorical variables with less than 5 categories\n",
    "categorical_cols_less_than_5 = df.select_dtypes(include=['object']).columns[df.nunique() < 5]\n",
    "\n",
    "# Appling One-Hot Encoding to categorical variables with less than 5 categories\n",
    "df_encoded = pd.get_dummies(df, columns=categorical_cols_less_than_5)\n",
    "\n",
    "print(\"Encoded DataFrame:\")\n",
    "print(df_encoded)\n"
   ]
  },
  {
   "cell_type": "code",
   "execution_count": 15,
   "id": "dba6f95d-a92b-4f15-b74a-623041559aea",
   "metadata": {},
   "outputs": [],
   "source": [
    "from sklearn.preprocessing import LabelEncoder\n",
    "\n",
    "# Assuming df is your DataFrame containing the dataset\n",
    "# Selecting categorical columns with more than 5 unique categories\n",
    "label_enc_cols = df.select_dtypes(include=['object']).columns[df.nunique() > 5]\n",
    "\n",
    "# Applying Label Encoding to each selected column\n",
    "label_encoder = LabelEncoder()\n",
    "for col in label_enc_cols:\n",
    "    df[col] = label_encoder.fit_transform(df[col])\n",
    "\n",
    "# Now, the categorical variables with more than 5 categories are encoded using Label Encoding\n"
   ]
  },
  {
   "cell_type": "code",
   "execution_count": 17,
   "id": "58daa19c-f51f-4cc5-9459-2c2739e20692",
   "metadata": {},
   "outputs": [
    {
     "name": "stdout",
     "output_type": "stream",
     "text": [
      "Index(['category1', 'category2', 'category3'], dtype='object')\n",
      "Error: 'capital_loss' column does not exist in the DataFrame.\n"
     ]
    }
   ],
   "source": [
    "# Checking column names in the DataFrame\n",
    "print(df.columns)\n",
    "\n",
    "# Then accessing the 'capital_gain' column if it exists\n",
    "if 'capital_loss' in df.columns:\n",
    "    # Your code to work with the 'capital_gain' column\n",
    "    # For example:\n",
    "    capital_gain_values = df['capital_loss']\n",
    "else:\n",
    "    print(\"Error: 'capital_loss' column does not exist in the DataFrame.\")\n"
   ]
  },
  {
   "cell_type": "code",
   "execution_count": 13,
   "id": "4a00a5be-e95e-46fa-8ea2-2536bb969816",
   "metadata": {},
   "outputs": [
    {
     "ename": "NameError",
     "evalue": "name 'df_encoded_label' is not defined",
     "output_type": "error",
     "traceback": [
      "\u001b[1;31m---------------------------------------------------------------------------\u001b[0m",
      "\u001b[1;31mNameError\u001b[0m                                 Traceback (most recent call last)",
      "Cell \u001b[1;32mIn[13], line 5\u001b[0m\n\u001b[0;32m      3\u001b[0m isolation_forest \u001b[38;5;241m=\u001b[39m IsolationForest(contamination\u001b[38;5;241m=\u001b[39m\u001b[38;5;241m0.01\u001b[39m)\n\u001b[0;32m      4\u001b[0m outliers \u001b[38;5;241m=\u001b[39m isolation_forest\u001b[38;5;241m.\u001b[39mfit_predict(df_scaled_standard)\n\u001b[1;32m----> 5\u001b[0m df_cleaned \u001b[38;5;241m=\u001b[39m df_encoded_label[outliers \u001b[38;5;241m==\u001b[39m \u001b[38;5;241m32561\u001b[39m]\n\u001b[0;32m      7\u001b[0m \u001b[38;5;66;03m# Outliers can affect model performance by skewing the model's understanding of the data distribution,\u001b[39;00m\n\u001b[0;32m      8\u001b[0m \u001b[38;5;66;03m# leading to biased parameter estimates and reduced predictive accuracy.\u001b[39;00m\n\u001b[0;32m      9\u001b[0m \n\u001b[0;32m     10\u001b[0m \u001b[38;5;66;03m# Predictive Power Score (PPS)\u001b[39;00m\n\u001b[0;32m     11\u001b[0m pps_matrix \u001b[38;5;241m=\u001b[39m pps\u001b[38;5;241m.\u001b[39mmatrix(df_cleaned)\n",
      "\u001b[1;31mNameError\u001b[0m: name 'df_encoded_label' is not defined"
     ]
    }
   ],
   "source": [
    "# Featuring Selection\n",
    "# Isolationing Forest for outlier detection\n",
    "isolation_forest = IsolationForest(contamination=0.01)\n",
    "outliers = isolation_forest.fit_predict(df_scaled_standard)\n",
    "df_cleaned = df_encoded_label[outliers == 32561]\n",
    "\n",
    "# Outliers can affect model performance by skewing the model's understanding of the data distribution,\n",
    "# leading to biased parameter estimates and reduced predictive accuracy.\n",
    "\n",
    "# Predictive Power Score (PPS)\n",
    "pps_matrix = pps.matrix(df_cleaned)\n",
    "print(\"\\nPPS Matrix:\")\n",
    "print(pps_matrix)\n",
    "\n",
    "# Comparison with correlation matrix\n",
    "correlation_matrix = df_cleaned.corr()\n",
    "print(\"\\nCorrelation Matrix:\")\n",
    "print(correlation_matrix)"
   ]
  },
  {
   "cell_type": "code",
   "execution_count": null,
   "id": "b05225c8-2c29-4668-9027-d1d377219c3a",
   "metadata": {},
   "outputs": [],
   "source": []
  }
 ],
 "metadata": {
  "kernelspec": {
   "display_name": "Python 3 (ipykernel)",
   "language": "python",
   "name": "python3"
  },
  "language_info": {
   "codemirror_mode": {
    "name": "ipython",
    "version": 3
   },
   "file_extension": ".py",
   "mimetype": "text/x-python",
   "name": "python",
   "nbconvert_exporter": "python",
   "pygments_lexer": "ipython3",
   "version": "3.12.4"
  }
 },
 "nbformat": 4,
 "nbformat_minor": 5
}
